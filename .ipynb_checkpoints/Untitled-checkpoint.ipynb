{
 "cells": [
  {
   "cell_type": "code",
   "execution_count": 26,
   "id": "9c1e9237-3947-4de5-a75d-c019b40c1369",
   "metadata": {},
   "outputs": [],
   "source": [
    "import pandas as pd\n",
    "import numpy as np"
   ]
  },
  {
   "cell_type": "code",
   "execution_count": 27,
   "id": "f424d57b-3aa4-4658-a022-06d803571316",
   "metadata": {},
   "outputs": [],
   "source": [
    "# Charger ton mini dataset\n",
    "file_path = \"final_dataset.xlsx\"  # Mets le bon chemin vers ton fichier\n",
    "df_base = pd.read_excel(file_path, sheet_name=0)"
   ]
  },
  {
   "cell_type": "code",
   "execution_count": 28,
   "id": "cae5fd9b-4b9c-4ba7-811e-f37afa86692c",
   "metadata": {},
   "outputs": [],
   "source": [
    "# Nombre d'exemples à générer\n",
    "n_positive = 14000  # Label = 1\n",
    "n_negative = 6000   # Label = 0\n",
    "total_samples = n_positive + n_negative"
   ]
  },
  {
   "cell_type": "code",
   "execution_count": 29,
   "id": "4c012d36-2396-44b7-aef2-6026dfbc83a8",
   "metadata": {},
   "outputs": [],
   "source": [
    "# Générer les timestamps en partant du dernier timestamp existant\n",
    "start_time = pd.to_datetime(\"2025-02-19 10:00:00\")\n",
    "timestamps = [start_time + pd.Timedelta(minutes=i) for i in range(total_samples)]"
   ]
  },
  {
   "cell_type": "code",
   "execution_count": 30,
   "id": "e65d142b-c6ae-4b79-9ece-778d63e010f4",
   "metadata": {},
   "outputs": [],
   "source": [
    "# Génération des valeurs réalistes en respectant la structure de ton mini dataset\n",
    "cpu_usage = np.random.normal(loc=50, scale=20, size=total_samples).clip(0, 100)\n",
    "ram_usage = np.random.normal(loc=50, scale=25, size=total_samples).clip(0, 100)\n",
    "disk_usage = np.random.normal(loc=60, scale=15, size=total_samples).clip(0, 100)\n",
    "network_sent = np.random.randint(0, 1000, size=total_samples)\n",
    "network_received = np.random.randint(0, 1000, size=total_samples)\n",
    "temperature = np.random.normal(loc=45, scale=10, size=total_samples).clip(20, 100)\n",
    "reallocated_sectors = np.random.poisson(lam=2, size=total_samples)\n",
    "event_id = np.random.randint(1, 10, size=total_samples)"
   ]
  },
  {
   "cell_type": "code",
   "execution_count": 31,
   "id": "a0746bd7-f3c1-4940-a8ff-77a5b33ce782",
   "metadata": {},
   "outputs": [],
   "source": [
    "# Génération des labels équilibrés\n",
    "labels = np.concatenate([np.ones(n_positive), np.zeros(n_negative)])\n",
    "np.random.shuffle(labels)"
   ]
  },
  {
   "cell_type": "code",
   "execution_count": 32,
   "id": "9a6c69fd-8cc4-4d10-ae7d-db82477abe0d",
   "metadata": {},
   "outputs": [],
   "source": [
    "# Génération des messages et niveaux de logs\n",
    "messages = np.random.choice(\n",
    "    [\n",
    "        \"Erreur disque détectée\",\n",
    "        \"Surchauffe CPU\",\n",
    "        \"Mémoire insuffisante\",\n",
    "        \"Problème réseau\",\n",
    "        \"Service arrêté inopinément\",\n",
    "        \"Journal système OK\"\n",
    "    ],\n",
    "    size=total_samples\n",
    ")\n",
    "\n",
    "levels = np.where(labels == 1, \"Error, Warning\", \"Information\")\n"
   ]
  },
  {
   "cell_type": "code",
   "execution_count": 33,
   "id": "94321774-4535-4d82-a203-c96b2b49b617",
   "metadata": {},
   "outputs": [],
   "source": [
    "# Fonction pour générer une description détaillée en fonction des valeurs réelles\n",
    "def generate_description(row):\n",
    "    issues = []\n",
    "    if row[\"cpu_usage\"] > 85 and row[\"ram_usage\"] > 85:\n",
    "        issues.append(\"Surcharge critique du CPU et de la mémoire vive.\")\n",
    "    elif row[\"cpu_usage\"] > 85:\n",
    "        issues.append(\"Utilisation CPU anormalement élevée.\")\n",
    "    elif row[\"ram_usage\"] > 90:\n",
    "        issues.append(\"Mémoire vive saturée.\")\n",
    "    if row[\"temperature\"] > 60:\n",
    "        issues.append(\"Surchauffe détectée du matériel.\")\n",
    "    if row[\"reallocated_sectors\"] > 5:\n",
    "        issues.append(\"Secteurs réalloués sur le disque indiquant une possible défaillance.\")\n",
    "    if \"Error\" in row[\"level\"]:\n",
    "        issues.append(\"Présence d'erreurs système dans les logs.\")\n",
    "    return \" | \".join(issues) if issues else \"Système stable, aucun problème détecté.\"\n",
    "\n"
   ]
  },
  {
   "cell_type": "code",
   "execution_count": 22,
   "id": "c4afe5d3-ddf5-4114-8c6d-3d91b4c34a2c",
   "metadata": {},
   "outputs": [],
   "source": [
    "# Fonction pour générer une recommandation précise\n",
    "def generate_recommendation(row):\n",
    "    actions = []\n",
    "    if \"Surcharge critique du CPU\" in row[\"description\"] or \"Utilisation CPU anormalement élevée\" in row[\"description\"]:\n",
    "        actions.append(\"Fermez les applications inutiles et optimisez les processus.\")\n",
    "    if \"Mémoire vive saturée\" in row[\"description\"]:\n",
    "        actions.append(\"Augmentez la mémoire RAM ou réduisez la charge des applications.\")\n",
    "    if \"Surchauffe détectée du matériel\" in row[\"description\"]:\n",
    "        actions.append(\"Vérifiez le refroidissement du système et nettoyez les ventilateurs.\")\n",
    "    if \"Secteurs réalloués\" in row[\"description\"]:\n",
    "        actions.append(\"Effectuez un test SMART du disque et envisagez un remplacement.\")\n",
    "    if \"Présence d'erreurs système\" in row[\"description\"]:\n",
    "        actions.append(\"Analysez les logs système pour identifier la cause des erreurs.\")\n",
    "    return \" | \".join(actions) if actions else \"Aucune action requise.\""
   ]
  },
  {
   "cell_type": "code",
   "execution_count": 23,
   "id": "600ba148-157f-4b99-8b17-c102a2718219",
   "metadata": {},
   "outputs": [],
   "source": [
    "\n",
    "# Création du dataset final\n",
    "df_large = pd.DataFrame({\n",
    "    \"timestamp\": timestamps,\n",
    "    \"cpu_usage\": cpu_usage,\n",
    "    \"ram_usage\": ram_usage,\n",
    "    \"disk_usage\": disk_usage,\n",
    "    \"network_sent\": network_sent,\n",
    "    \"network_received\": network_received,\n",
    "    \"temperature\": temperature,\n",
    "    \"reallocated_sectors\": reallocated_sectors,\n",
    "    \"event_id\": event_id,\n",
    "    \"message\": messages,\n",
    "    \"level\": levels,\n",
    "    \"label\": labels\n",
    "})"
   ]
  },
  {
   "cell_type": "code",
   "execution_count": 34,
   "id": "ca24ea6d-f046-4a64-a35b-a1aa1d68cc05",
   "metadata": {},
   "outputs": [],
   "source": [
    "\n",
    "# Appliquer les descriptions et recommandations précises\n",
    "df_large[\"description\"] = df_large.apply(generate_description, axis=1)\n",
    "df_large[\"recommendation\"] = df_large.apply(generate_recommendation, axis=1)"
   ]
  },
  {
   "cell_type": "code",
   "execution_count": 35,
   "id": "1a11d042-d3ea-4bc0-a1c0-191c33686484",
   "metadata": {},
   "outputs": [
    {
     "name": "stdout",
     "output_type": "stream",
     "text": [
      "✅ Dataset généré avec succès et enregistré sous final_dataset_20000_updated.xlsx\n"
     ]
    }
   ],
   "source": [
    "# Sauvegarde du fichier final\n",
    "output_file = \"final_dataset_20000_updated.xlsx\"\n",
    "df_large.to_excel(output_file, index=False)\n",
    "\n",
    "print(f\"✅ Dataset généré avec succès et enregistré sous {output_file}\")"
   ]
  },
  {
   "cell_type": "code",
   "execution_count": null,
   "id": "601a2b30-4b9b-4d9e-9542-66c585e3b2b1",
   "metadata": {},
   "outputs": [],
   "source": []
  }
 ],
 "metadata": {
  "kernelspec": {
   "display_name": "Python 3 (ipykernel)",
   "language": "python",
   "name": "python3"
  },
  "language_info": {
   "codemirror_mode": {
    "name": "ipython",
    "version": 3
   },
   "file_extension": ".py",
   "mimetype": "text/x-python",
   "name": "python",
   "nbconvert_exporter": "python",
   "pygments_lexer": "ipython3",
   "version": "3.10.9"
  }
 },
 "nbformat": 4,
 "nbformat_minor": 5
}
