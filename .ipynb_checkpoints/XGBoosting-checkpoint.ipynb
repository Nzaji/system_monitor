{
 "cells": [
  {
   "cell_type": "code",
   "execution_count": null,
   "id": "e4645df9-7853-4b73-9647-41f08dad96f2",
   "metadata": {},
   "outputs": [],
   "source": [
    "import numpy as np\n",
    "import pandas as pd\n",
    "from sklearn.model_selection import train_test_split, RandomizedSearchCV\n",
    "from sklearn.metrics import accuracy_score, classification_report, confusion_matrix\n",
    "import xgboost as xgb\n",
    "import matplotlib.pyplot as plt\n",
    "import seaborn as sns"
   ]
  },
  {
   "cell_type": "code",
   "execution_count": null,
   "id": "b0f967d7-7eae-4398-9cc5-ba4f9d7fffb5",
   "metadata": {},
   "outputs": [],
   "source": [
    "#chargement de dataset"
   ]
  },
  {
   "cell_type": "code",
   "execution_count": null,
   "id": "7dc3bc31-949a-45e0-8592-395fd393f12f",
   "metadata": {},
   "outputs": [],
   "source": [
    "df=pd.read_excel('final_d.xlsx')"
   ]
  },
  {
   "cell_type": "code",
   "execution_count": null,
   "id": "57a22948-0ee9-4f64-9ae4-0e68e1b42973",
   "metadata": {},
   "outputs": [],
   "source": [
    "print(df['label'].value_counts())"
   ]
  },
  {
   "cell_type": "code",
   "execution_count": null,
   "id": "17271192-cb91-4abb-b1df-e78539cce620",
   "metadata": {},
   "outputs": [],
   "source": [
    "print(df.isnull().sum())"
   ]
  },
  {
   "cell_type": "code",
   "execution_count": null,
   "id": "a8ecb4ee-ba6e-4b84-b8f8-bffc75304e94",
   "metadata": {},
   "outputs": [],
   "source": [
    "label_counts=df['label'].value_counts()\n",
    "print(label_counts)\n",
    "plt.figure(figsize=(5,3))\n",
    "sns.barplot(x=label_counts.index, y=label_counts.values, palette=['blue', 'red'])\n",
    "plt.xlabel(\"Label (0=normal, 1=panne\")\n",
    "plt.ylabel(\"Nombre d'exemples\")\n",
    "plt.title(\"Repartition des classes dans le dataset\")\n",
    "plt.show()"
   ]
  },
  {
   "cell_type": "code",
   "execution_count": null,
   "id": "01789a1b-4e0d-46ef-8961-45c7e0721344",
   "metadata": {},
   "outputs": [],
   "source": [
    "plt.figure(figsize=(12,6))\n",
    "sns.heatmap(df.corr(numeric_only=True), annot=True, cmap='coolwarm')\n",
    "plt.title(\"Matrice de correlation\")\n",
    "plt.show()"
   ]
  },
  {
   "cell_type": "code",
   "execution_count": null,
   "id": "45a72da6-f23a-4ba5-95be-8c47c915ac62",
   "metadata": {},
   "outputs": [],
   "source": [
    "# Définir les features (X) et la cible (y)\n",
    "X = df[['cpu_usage','ram_usage','disk_usage','network_sent','network_received','reallocated_sectors', 'event_id']] \n",
    "y = df['label']\n"
   ]
  },
  {
   "cell_type": "code",
   "execution_count": null,
   "id": "a120a021-cb90-486b-b10b-0f5b7825451d",
   "metadata": {},
   "outputs": [],
   "source": [
    "print(X.shape)\n",
    "print(y.shape)"
   ]
  },
  {
   "cell_type": "code",
   "execution_count": null,
   "id": "8b20a5ac-e6d9-4887-9eca-07004b8c7713",
   "metadata": {},
   "outputs": [],
   "source": [
    "\n",
    "# Division des données en ensembles d'entraînement et de test\n",
    "X_train, X_test, y_train, y_test = train_test_split(X, y, test_size=0.2, random_state=42)"
   ]
  },
  {
   "cell_type": "code",
   "execution_count": null,
   "id": "dfee4161-b5d0-4afa-87f0-da90a9b0394f",
   "metadata": {},
   "outputs": [],
   "source": [
    "# 1. Entraînement d'un modèle XGBoost avec des hyperparamètres par défaut\n",
    "xgb_default = xgb.XGBClassifier(random_state=42)\n",
    "xgb_default.fit(X_train, y_train)"
   ]
  },
  {
   "cell_type": "code",
   "execution_count": null,
   "id": "f434316f-4f64-4c27-90b3-2ee27963e205",
   "metadata": {},
   "outputs": [],
   "source": [
    "# 2. Calcul de l'accuracy sur les ensembles d'entraînement et de test\n",
    "y_train_pred = xgb_default.predict(X_train)\n",
    "y_test_pred = xgb_default.predict(X_test)\n",
    "\n",
    "train_accuracy = accuracy_score(y_train, y_train_pred)\n",
    "test_accuracy = accuracy_score(y_test, y_test_pred)\n",
    "\n",
    "print(\"Accuracy sur l'entraînement (XGBoost par défaut) :\", train_accuracy)\n",
    "print(\"Accuracy sur le test (XGBoost par défaut) :\", test_accuracy)"
   ]
  },
  {
   "cell_type": "code",
   "execution_count": null,
   "id": "3e5fcf6c-7013-4c46-9d45-e256a58e5df5",
   "metadata": {},
   "outputs": [],
   "source": [
    "# 3. Ajustement des hyperparamètres avec Random Search\n",
    "param_dist = {\n",
    "    'n_estimators': [50, 100, 200, 500],  # Nombre d'arbres\n",
    "    'max_depth': [3, 5, 7, 10],  # Profondeur maximale des arbres\n",
    "    'learning_rate': [0.01, 0.1, 0.2, 0.3],  # Taux d'apprentissage\n",
    "    'subsample': [0.8, 0.9, 1.0],  # Proportion d'échantillons utilisés pour chaque arbre\n",
    "    'colsample_bytree': [0.8, 0.9, 1.0],  # Proportion de features utilisées pour chaque arbre\n",
    "    'gamma': [0, 0.1, 0.2],  # Réduction minimale de la perte requise pour diviser un nœud\n",
    "    'reg_alpha': [0, 0.1, 1],  # Régularisation L1\n",
    "    'reg_lambda': [0, 0.1, 1]  # Régularisation L2\n",
    "}\n",
    "\n",
    "random_search = RandomizedSearchCV(\n",
    "    estimator=xgb.XGBClassifier(random_state=42),\n",
    "    param_distributions=param_dist,\n",
    "    n_iter=50,  # Nombre de combinaisons à tester\n",
    "    cv=5,  # 5-fold cross-validation\n",
    "    scoring='accuracy',\n",
    "    n_jobs=-1,  # Utiliser tous les cœurs disponibles\n",
    "    random_state=42\n",
    ")\n",
    "\n",
    "random_search.fit(X_train, y_train)"
   ]
  },
  {
   "cell_type": "code",
   "execution_count": null,
   "id": "0e585944-a33d-427e-800d-89b658db5d35",
   "metadata": {},
   "outputs": [],
   "source": [
    "# 4. Meilleurs hyperparamètres trouvés par Random Search\n",
    "best_params_xgb = random_search.best_params_\n",
    "print(\"Meilleurs hyperparamètres (XGBoost Random Search) :\", best_params_xgb)\n"
   ]
  },
  {
   "cell_type": "code",
   "execution_count": null,
   "id": "09858f48-983d-485d-a977-d30ee0e585b4",
   "metadata": {},
   "outputs": [],
   "source": [
    "# 5. Évaluation du meilleur modèle sur l'ensemble de test\n",
    "best_model_xgb = random_search.best_estimator_\n",
    "y_test_pred_xgb = best_model_xgb.predict(X_test)\n",
    "test_accuracy_xgb = accuracy_score(y_test, y_test_pred_xgb)\n",
    "print(\"Accuracy sur le test (XGBoost optimisé) :\", test_accuracy_xgb)\n"
   ]
  },
  {
   "cell_type": "code",
   "execution_count": null,
   "id": "f7fc4efe-3082-4b72-a069-142b4418c537",
   "metadata": {},
   "outputs": [],
   "source": [
    "# 6. Matrice de confusion pour XGBoost\n",
    "cm_xgb = confusion_matrix(y_test, y_test_pred_xgb)\n",
    "print(\"\\nMatrice de confusion (XGBoost) :\")\n",
    "print(cm_xgb)\n"
   ]
  },
  {
   "cell_type": "code",
   "execution_count": null,
   "id": "07e8ad81-9744-4cad-a37b-0e88a5282b1a",
   "metadata": {},
   "outputs": [],
   "source": [
    "# 7. Visualisation de la matrice de confusion\n",
    "sns.heatmap(cm_xgb, annot=True, fmt='d', cmap='Blues', xticklabels=data.target_names, yticklabels=data.target_names)\n",
    "plt.xlabel('Prédit')\n",
    "plt.ylabel('Vrai')\n",
    "plt.title('Matrice de confusion (XGBoost)')\n",
    "plt.show()\n"
   ]
  },
  {
   "cell_type": "code",
   "execution_count": null,
   "id": "99d5007a-8d90-4d49-afef-128f2c1174e4",
   "metadata": {},
   "outputs": [],
   "source": [
    "# 8. Rapport de classification pour XGBoost\n",
    "print(\"\\nRapport de classification (XGBoost) :\")\n",
    "print(classification_report(y_test, y_test_pred_xgb, target_names=data.target_names))"
   ]
  }
 ],
 "metadata": {
  "kernelspec": {
   "display_name": "Python 3 (ipykernel)",
   "language": "python",
   "name": "python3"
  },
  "language_info": {
   "codemirror_mode": {
    "name": "ipython",
    "version": 3
   },
   "file_extension": ".py",
   "mimetype": "text/x-python",
   "name": "python",
   "nbconvert_exporter": "python",
   "pygments_lexer": "ipython3",
   "version": "3.10.9"
  }
 },
 "nbformat": 4,
 "nbformat_minor": 5
}
