{
 "cells": [
  {
   "cell_type": "code",
   "execution_count": null,
   "id": "09d727f0-b786-433e-86be-36220048a077",
   "metadata": {},
   "outputs": [],
   "source": []
  }
 ],
 "metadata": {
  "kernelspec": {
   "display_name": "",
   "name": ""
  },
  "language_info": {
   "name": ""
  }
 },
 "nbformat": 4,
 "nbformat_minor": 5
}
