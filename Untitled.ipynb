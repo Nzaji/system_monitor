{
 "cells": [
  {
   "cell_type": "code",
   "execution_count": 48,
   "id": "9c1e9237-3947-4de5-a75d-c019b40c1369",
   "metadata": {},
   "outputs": [],
   "source": [
    "import pandas as pd\n",
    "import numpy as np"
   ]
  },
  {
   "cell_type": "code",
   "execution_count": null,
   "id": "f424d57b-3aa4-4658-a022-06d803571316",
   "metadata": {},
   "outputs": [],
   "source": []
  },
  {
   "cell_type": "code",
   "execution_count": 49,
   "id": "cae5fd9b-4b9c-4ba7-811e-f37afa86692c",
   "metadata": {},
   "outputs": [],
   "source": [
    "# Nombre d'exemples\n",
    "n_positive = 14000  # Label = 1 (Panne probable)\n",
    "n_negative = 6000   # Label = 0 (Système normal)\n",
    "total_samples = n_positive + n_negative"
   ]
  },
  {
   "cell_type": "code",
   "execution_count": 50,
   "id": "4c012d36-2396-44b7-aef2-6026dfbc83a8",
   "metadata": {},
   "outputs": [],
   "source": [
    "# Générer les timestamps en partant du dernier timestamp existant\n",
    "start_time = pd.to_datetime(\"2025-02-19 10:00:00\")\n",
    "timestamps = [start_time + pd.Timedelta(minutes=i) for i in range(total_samples)]"
   ]
  },
  {
   "cell_type": "code",
   "execution_count": 51,
   "id": "e65d142b-c6ae-4b79-9ece-778d63e010f4",
   "metadata": {},
   "outputs": [],
   "source": [
    "# Initialisation des listes de stockage\n",
    "cpu_usage, ram_usage, disk_usage = [], [], []\n",
    "network_sent, network_received = [], []\n",
    "temperature, reallocated_sectors, event_id = [], [], []\n",
    "labels, messages, levels = [], [], []"
   ]
  },
  {
   "cell_type": "code",
   "execution_count": 52,
   "id": "a0746bd7-f3c1-4940-a8ff-77a5b33ce782",
   "metadata": {},
   "outputs": [],
   "source": [
    "# Définition des scénarios de panne\n",
    "scenarios = [\n",
    "    \"Surcharge CPU\", \"Surcharge RAM\", \"Surchauffe matérielle\",\n",
    "    \"Défaillance disque\", \"Problème réseau\", \"Erreurs système critiques\",\n",
    "    \"Combinaison de plusieurs pannes\"\n",
    "]"
   ]
  },
  {
   "cell_type": "code",
   "execution_count": 53,
   "id": "9a6c69fd-8cc4-4d10-ae7d-db82477abe0d",
   "metadata": {},
   "outputs": [],
   "source": [
    "# Génération des données\n",
    "for i in range(total_samples):\n",
    "    label = 1 if i < n_positive else 0  # Attribution des labels\n",
    "\n",
    "    if label == 1:  # Cas panne\n",
    "        scenario = np.random.choice(scenarios, p=[0.2, 0.2, 0.15, 0.15, 0.15, 0.1, 0.05])\n",
    "\n",
    "        if scenario == \"Surcharge CPU\":\n",
    "            cpu = np.random.uniform(90, 100)\n",
    "            ram = np.random.uniform(70, 90)\n",
    "            temperature_val = np.random.uniform(55, 70)\n",
    "\n",
    "        elif scenario == \"Surcharge RAM\":\n",
    "            cpu = np.random.uniform(50, 80)\n",
    "            ram = np.random.uniform(95, 100)\n",
    "            temperature_val = np.random.uniform(50, 65)\n",
    "\n",
    "        elif scenario == \"Surchauffe matérielle\":\n",
    "            cpu = np.random.uniform(60, 90)\n",
    "            ram = np.random.uniform(50, 80)\n",
    "            temperature_val = np.random.uniform(70, 100)\n",
    "\n",
    "        elif scenario == \"Défaillance disque\":\n",
    "            cpu = np.random.uniform(30, 70)\n",
    "            ram = np.random.uniform(40, 80)\n",
    "            temperature_val = np.random.uniform(40, 60)\n",
    "            reallocated = np.random.randint(6, 50)\n",
    "\n",
    "        elif scenario == \"Problème réseau\":\n",
    "            cpu = np.random.uniform(40, 70)\n",
    "            ram = np.random.uniform(50, 80)\n",
    "            temperature_val = np.random.uniform(40, 60)\n",
    "            network_sent_val = np.random.randint(10000, 50000)\n",
    "            network_received_val = np.random.randint(0, 500)\n",
    "\n",
    "        elif scenario == \"Erreurs système critiques\":\n",
    "            cpu = np.random.uniform(50, 80)\n",
    "            ram = np.random.uniform(50, 80)\n",
    "            temperature_val = np.random.uniform(40, 60)\n",
    "\n",
    "        elif scenario == \"Combinaison de plusieurs pannes\":\n",
    "            cpu = np.random.uniform(85, 100)\n",
    "            ram = np.random.uniform(90, 100)\n",
    "            temperature_val = np.random.uniform(75, 100)\n",
    "            reallocated = np.random.randint(10, 50)\n",
    "            network_sent_val = np.random.randint(20000, 60000)\n",
    "            network_received_val = np.random.randint(0, 200)\n",
    "\n",
    "    else:  # Cas normal (label = 0)\n",
    "        cpu = np.random.uniform(10, 70)\n",
    "        ram = np.random.uniform(10, 70)\n",
    "        temperature_val = np.random.uniform(30, 55)\n",
    "        reallocated = np.random.randint(0, 3)\n",
    "        network_sent_val = np.random.randint(0, 1000)\n",
    "        network_received_val = np.random.randint(0, 1000)\n",
    "\n"
   ]
  },
  {
   "cell_type": "code",
   "execution_count": 54,
   "id": "94321774-4535-4d82-a203-c96b2b49b617",
   "metadata": {},
   "outputs": [],
   "source": [
    " # Stockage des valeurs\n",
    "cpu_usage.append(cpu)\n",
    "ram_usage.append(ram)\n",
    "disk_usage.append(np.random.uniform(40, 90))\n",
    "network_sent.append(network_sent_val)\n",
    "network_received.append(network_received_val)\n",
    "temperature.append(temperature_val)\n",
    "reallocated_sectors.append(reallocated)\n",
    "event_id.append(np.random.randint(1, 10))\n",
    "labels.append(label)"
   ]
  },
  {
   "cell_type": "code",
   "execution_count": 55,
   "id": "c4afe5d3-ddf5-4114-8c6d-3d91b4c34a2c",
   "metadata": {},
   "outputs": [],
   "source": [
    "# Messages et niveaux de logs\n",
    "if label == 1:\n",
    "    messages.append(f\"Erreur détectée : {scenario}\")\n",
    "    levels.append(\"Error, Warning\")\n",
    "else:\n",
    "    messages.append(\"Journal système OK\")\n",
    "    levels.append(\"Information\")"
   ]
  },
  {
   "cell_type": "code",
   "execution_count": 56,
   "id": "600ba148-157f-4b99-8b17-c102a2718219",
   "metadata": {},
   "outputs": [],
   "source": [
    "# Génération des descriptions\n",
    "def generate_description(row):\n",
    "    issues = []\n",
    "    if row[\"cpu_usage\"] > 85 and row[\"ram_usage\"] > 85:\n",
    "        issues.append(\"Surcharge critique CPU et RAM.\")\n",
    "    if row[\"cpu_usage\"] > 90:\n",
    "        issues.append(\"Utilisation CPU anormalement élevée.\")\n",
    "    if row[\"ram_usage\"] > 95:\n",
    "        issues.append(\"Mémoire vive saturée.\")\n",
    "    if row[\"temperature\"] > 70:\n",
    "        issues.append(\"Surchauffe matérielle détectée.\")\n",
    "    if row[\"reallocated_sectors\"] > 5:\n",
    "        issues.append(\"Défaillance probable du disque (SMART).\")\n",
    "    if \"Error\" in row[\"level\"]:\n",
    "        issues.append(\"Erreurs système détectées.\")\n",
    "    return \" | \".join(issues) if issues else \"Système stable.\"\n"
   ]
  },
  {
   "cell_type": "code",
   "execution_count": 57,
   "id": "ca24ea6d-f046-4a64-a35b-a1aa1d68cc05",
   "metadata": {},
   "outputs": [],
   "source": [
    "# Génération des recommandations\n",
    "def generate_recommendation(row):\n",
    "    actions = []\n",
    "    if \"Surcharge critique CPU\" in row[\"description\"]:\n",
    "        actions.append(\"Optimisez les processus et fermez les applications inutiles.\")\n",
    "    if \"Mémoire vive saturée\" in row[\"description\"]:\n",
    "        actions.append(\"Ajoutez plus de RAM ou réduisez la charge mémoire.\")\n",
    "    if \"Surchauffe matérielle\" in row[\"description\"]:\n",
    "        actions.append(\"Vérifiez les ventilateurs et nettoyez le système de refroidissement.\")\n",
    "    if \"Défaillance probable du disque\" in row[\"description\"]:\n",
    "        actions.append(\"Effectuez un test SMART et sauvegardez les données.\")\n",
    "    if \"Erreurs système détectées\" in row[\"description\"]:\n",
    "        actions.append(\"Analysez les logs pour identifier la cause exacte.\")\n",
    "    return \" | \".join(actions) if actions else \"Aucune action requise.\""
   ]
  },
  {
   "cell_type": "code",
   "execution_count": 58,
   "id": "1a11d042-d3ea-4bc0-a1c0-191c33686484",
   "metadata": {},
   "outputs": [
    {
     "ename": "ValueError",
     "evalue": "All arrays must be of the same length",
     "output_type": "error",
     "traceback": [
      "\u001b[1;31m---------------------------------------------------------------------------\u001b[0m",
      "\u001b[1;31mValueError\u001b[0m                                Traceback (most recent call last)",
      "Cell \u001b[1;32mIn[58], line 2\u001b[0m\n\u001b[0;32m      1\u001b[0m \u001b[38;5;66;03m# Création du dataset final\u001b[39;00m\n\u001b[1;32m----> 2\u001b[0m df_large \u001b[38;5;241m=\u001b[39m \u001b[43mpd\u001b[49m\u001b[38;5;241;43m.\u001b[39;49m\u001b[43mDataFrame\u001b[49m\u001b[43m(\u001b[49m\u001b[43m{\u001b[49m\n\u001b[0;32m      3\u001b[0m \u001b[43m    \u001b[49m\u001b[38;5;124;43m\"\u001b[39;49m\u001b[38;5;124;43mtimestamp\u001b[39;49m\u001b[38;5;124;43m\"\u001b[39;49m\u001b[43m:\u001b[49m\u001b[43m \u001b[49m\u001b[43mtimestamps\u001b[49m\u001b[43m,\u001b[49m\n\u001b[0;32m      4\u001b[0m \u001b[43m    \u001b[49m\u001b[38;5;124;43m\"\u001b[39;49m\u001b[38;5;124;43mcpu_usage\u001b[39;49m\u001b[38;5;124;43m\"\u001b[39;49m\u001b[43m:\u001b[49m\u001b[43m \u001b[49m\u001b[43mcpu_usage\u001b[49m\u001b[43m,\u001b[49m\n\u001b[0;32m      5\u001b[0m \u001b[43m    \u001b[49m\u001b[38;5;124;43m\"\u001b[39;49m\u001b[38;5;124;43mram_usage\u001b[39;49m\u001b[38;5;124;43m\"\u001b[39;49m\u001b[43m:\u001b[49m\u001b[43m \u001b[49m\u001b[43mram_usage\u001b[49m\u001b[43m,\u001b[49m\n\u001b[0;32m      6\u001b[0m \u001b[43m    \u001b[49m\u001b[38;5;124;43m\"\u001b[39;49m\u001b[38;5;124;43mdisk_usage\u001b[39;49m\u001b[38;5;124;43m\"\u001b[39;49m\u001b[43m:\u001b[49m\u001b[43m \u001b[49m\u001b[43mdisk_usage\u001b[49m\u001b[43m,\u001b[49m\n\u001b[0;32m      7\u001b[0m \u001b[43m    \u001b[49m\u001b[38;5;124;43m\"\u001b[39;49m\u001b[38;5;124;43mnetwork_sent\u001b[39;49m\u001b[38;5;124;43m\"\u001b[39;49m\u001b[43m:\u001b[49m\u001b[43m \u001b[49m\u001b[43mnetwork_sent\u001b[49m\u001b[43m,\u001b[49m\n\u001b[0;32m      8\u001b[0m \u001b[43m    \u001b[49m\u001b[38;5;124;43m\"\u001b[39;49m\u001b[38;5;124;43mnetwork_received\u001b[39;49m\u001b[38;5;124;43m\"\u001b[39;49m\u001b[43m:\u001b[49m\u001b[43m \u001b[49m\u001b[43mnetwork_received\u001b[49m\u001b[43m,\u001b[49m\n\u001b[0;32m      9\u001b[0m \u001b[43m    \u001b[49m\u001b[38;5;124;43m\"\u001b[39;49m\u001b[38;5;124;43mtemperature\u001b[39;49m\u001b[38;5;124;43m\"\u001b[39;49m\u001b[43m:\u001b[49m\u001b[43m \u001b[49m\u001b[43mtemperature\u001b[49m\u001b[43m,\u001b[49m\n\u001b[0;32m     10\u001b[0m \u001b[43m    \u001b[49m\u001b[38;5;124;43m\"\u001b[39;49m\u001b[38;5;124;43mreallocated_sectors\u001b[39;49m\u001b[38;5;124;43m\"\u001b[39;49m\u001b[43m:\u001b[49m\u001b[43m \u001b[49m\u001b[43mreallocated_sectors\u001b[49m\u001b[43m,\u001b[49m\n\u001b[0;32m     11\u001b[0m \u001b[43m    \u001b[49m\u001b[38;5;124;43m\"\u001b[39;49m\u001b[38;5;124;43mevent_id\u001b[39;49m\u001b[38;5;124;43m\"\u001b[39;49m\u001b[43m:\u001b[49m\u001b[43m \u001b[49m\u001b[43mevent_id\u001b[49m\u001b[43m,\u001b[49m\n\u001b[0;32m     12\u001b[0m \u001b[43m    \u001b[49m\u001b[38;5;124;43m\"\u001b[39;49m\u001b[38;5;124;43mmessage\u001b[39;49m\u001b[38;5;124;43m\"\u001b[39;49m\u001b[43m:\u001b[49m\u001b[43m \u001b[49m\u001b[43mmessages\u001b[49m\u001b[43m,\u001b[49m\n\u001b[0;32m     13\u001b[0m \u001b[43m    \u001b[49m\u001b[38;5;124;43m\"\u001b[39;49m\u001b[38;5;124;43mlevel\u001b[39;49m\u001b[38;5;124;43m\"\u001b[39;49m\u001b[43m:\u001b[49m\u001b[43m \u001b[49m\u001b[43mlevels\u001b[49m\u001b[43m,\u001b[49m\n\u001b[0;32m     14\u001b[0m \u001b[43m    \u001b[49m\u001b[38;5;124;43m\"\u001b[39;49m\u001b[38;5;124;43mlabel\u001b[39;49m\u001b[38;5;124;43m\"\u001b[39;49m\u001b[43m:\u001b[49m\u001b[43m \u001b[49m\u001b[43mlabels\u001b[49m\n\u001b[0;32m     15\u001b[0m \u001b[43m}\u001b[49m\u001b[43m)\u001b[49m\n",
      "File \u001b[1;32m~\\AppData\\Local\\Programs\\Python\\Python310\\lib\\site-packages\\pandas\\core\\frame.py:778\u001b[0m, in \u001b[0;36mDataFrame.__init__\u001b[1;34m(self, data, index, columns, dtype, copy)\u001b[0m\n\u001b[0;32m    772\u001b[0m     mgr \u001b[38;5;241m=\u001b[39m \u001b[38;5;28mself\u001b[39m\u001b[38;5;241m.\u001b[39m_init_mgr(\n\u001b[0;32m    773\u001b[0m         data, axes\u001b[38;5;241m=\u001b[39m{\u001b[38;5;124m\"\u001b[39m\u001b[38;5;124mindex\u001b[39m\u001b[38;5;124m\"\u001b[39m: index, \u001b[38;5;124m\"\u001b[39m\u001b[38;5;124mcolumns\u001b[39m\u001b[38;5;124m\"\u001b[39m: columns}, dtype\u001b[38;5;241m=\u001b[39mdtype, copy\u001b[38;5;241m=\u001b[39mcopy\n\u001b[0;32m    774\u001b[0m     )\n\u001b[0;32m    776\u001b[0m \u001b[38;5;28;01melif\u001b[39;00m \u001b[38;5;28misinstance\u001b[39m(data, \u001b[38;5;28mdict\u001b[39m):\n\u001b[0;32m    777\u001b[0m     \u001b[38;5;66;03m# GH#38939 de facto copy defaults to False only in non-dict cases\u001b[39;00m\n\u001b[1;32m--> 778\u001b[0m     mgr \u001b[38;5;241m=\u001b[39m \u001b[43mdict_to_mgr\u001b[49m\u001b[43m(\u001b[49m\u001b[43mdata\u001b[49m\u001b[43m,\u001b[49m\u001b[43m \u001b[49m\u001b[43mindex\u001b[49m\u001b[43m,\u001b[49m\u001b[43m \u001b[49m\u001b[43mcolumns\u001b[49m\u001b[43m,\u001b[49m\u001b[43m \u001b[49m\u001b[43mdtype\u001b[49m\u001b[38;5;241;43m=\u001b[39;49m\u001b[43mdtype\u001b[49m\u001b[43m,\u001b[49m\u001b[43m \u001b[49m\u001b[43mcopy\u001b[49m\u001b[38;5;241;43m=\u001b[39;49m\u001b[43mcopy\u001b[49m\u001b[43m,\u001b[49m\u001b[43m \u001b[49m\u001b[43mtyp\u001b[49m\u001b[38;5;241;43m=\u001b[39;49m\u001b[43mmanager\u001b[49m\u001b[43m)\u001b[49m\n\u001b[0;32m    779\u001b[0m \u001b[38;5;28;01melif\u001b[39;00m \u001b[38;5;28misinstance\u001b[39m(data, ma\u001b[38;5;241m.\u001b[39mMaskedArray):\n\u001b[0;32m    780\u001b[0m     \u001b[38;5;28;01mfrom\u001b[39;00m \u001b[38;5;21;01mnumpy\u001b[39;00m\u001b[38;5;21;01m.\u001b[39;00m\u001b[38;5;21;01mma\u001b[39;00m \u001b[38;5;28;01mimport\u001b[39;00m mrecords\n",
      "File \u001b[1;32m~\\AppData\\Local\\Programs\\Python\\Python310\\lib\\site-packages\\pandas\\core\\internals\\construction.py:503\u001b[0m, in \u001b[0;36mdict_to_mgr\u001b[1;34m(data, index, columns, dtype, typ, copy)\u001b[0m\n\u001b[0;32m    499\u001b[0m     \u001b[38;5;28;01melse\u001b[39;00m:\n\u001b[0;32m    500\u001b[0m         \u001b[38;5;66;03m# dtype check to exclude e.g. range objects, scalars\u001b[39;00m\n\u001b[0;32m    501\u001b[0m         arrays \u001b[38;5;241m=\u001b[39m [x\u001b[38;5;241m.\u001b[39mcopy() \u001b[38;5;28;01mif\u001b[39;00m \u001b[38;5;28mhasattr\u001b[39m(x, \u001b[38;5;124m\"\u001b[39m\u001b[38;5;124mdtype\u001b[39m\u001b[38;5;124m\"\u001b[39m) \u001b[38;5;28;01melse\u001b[39;00m x \u001b[38;5;28;01mfor\u001b[39;00m x \u001b[38;5;129;01min\u001b[39;00m arrays]\n\u001b[1;32m--> 503\u001b[0m \u001b[38;5;28;01mreturn\u001b[39;00m \u001b[43marrays_to_mgr\u001b[49m\u001b[43m(\u001b[49m\u001b[43marrays\u001b[49m\u001b[43m,\u001b[49m\u001b[43m \u001b[49m\u001b[43mcolumns\u001b[49m\u001b[43m,\u001b[49m\u001b[43m \u001b[49m\u001b[43mindex\u001b[49m\u001b[43m,\u001b[49m\u001b[43m \u001b[49m\u001b[43mdtype\u001b[49m\u001b[38;5;241;43m=\u001b[39;49m\u001b[43mdtype\u001b[49m\u001b[43m,\u001b[49m\u001b[43m \u001b[49m\u001b[43mtyp\u001b[49m\u001b[38;5;241;43m=\u001b[39;49m\u001b[43mtyp\u001b[49m\u001b[43m,\u001b[49m\u001b[43m \u001b[49m\u001b[43mconsolidate\u001b[49m\u001b[38;5;241;43m=\u001b[39;49m\u001b[43mcopy\u001b[49m\u001b[43m)\u001b[49m\n",
      "File \u001b[1;32m~\\AppData\\Local\\Programs\\Python\\Python310\\lib\\site-packages\\pandas\\core\\internals\\construction.py:114\u001b[0m, in \u001b[0;36marrays_to_mgr\u001b[1;34m(arrays, columns, index, dtype, verify_integrity, typ, consolidate)\u001b[0m\n\u001b[0;32m    111\u001b[0m \u001b[38;5;28;01mif\u001b[39;00m verify_integrity:\n\u001b[0;32m    112\u001b[0m     \u001b[38;5;66;03m# figure out the index, if necessary\u001b[39;00m\n\u001b[0;32m    113\u001b[0m     \u001b[38;5;28;01mif\u001b[39;00m index \u001b[38;5;129;01mis\u001b[39;00m \u001b[38;5;28;01mNone\u001b[39;00m:\n\u001b[1;32m--> 114\u001b[0m         index \u001b[38;5;241m=\u001b[39m \u001b[43m_extract_index\u001b[49m\u001b[43m(\u001b[49m\u001b[43marrays\u001b[49m\u001b[43m)\u001b[49m\n\u001b[0;32m    115\u001b[0m     \u001b[38;5;28;01melse\u001b[39;00m:\n\u001b[0;32m    116\u001b[0m         index \u001b[38;5;241m=\u001b[39m ensure_index(index)\n",
      "File \u001b[1;32m~\\AppData\\Local\\Programs\\Python\\Python310\\lib\\site-packages\\pandas\\core\\internals\\construction.py:677\u001b[0m, in \u001b[0;36m_extract_index\u001b[1;34m(data)\u001b[0m\n\u001b[0;32m    675\u001b[0m lengths \u001b[38;5;241m=\u001b[39m \u001b[38;5;28mlist\u001b[39m(\u001b[38;5;28mset\u001b[39m(raw_lengths))\n\u001b[0;32m    676\u001b[0m \u001b[38;5;28;01mif\u001b[39;00m \u001b[38;5;28mlen\u001b[39m(lengths) \u001b[38;5;241m>\u001b[39m \u001b[38;5;241m1\u001b[39m:\n\u001b[1;32m--> 677\u001b[0m     \u001b[38;5;28;01mraise\u001b[39;00m \u001b[38;5;167;01mValueError\u001b[39;00m(\u001b[38;5;124m\"\u001b[39m\u001b[38;5;124mAll arrays must be of the same length\u001b[39m\u001b[38;5;124m\"\u001b[39m)\n\u001b[0;32m    679\u001b[0m \u001b[38;5;28;01mif\u001b[39;00m have_dicts:\n\u001b[0;32m    680\u001b[0m     \u001b[38;5;28;01mraise\u001b[39;00m \u001b[38;5;167;01mValueError\u001b[39;00m(\n\u001b[0;32m    681\u001b[0m         \u001b[38;5;124m\"\u001b[39m\u001b[38;5;124mMixing dicts with non-Series may lead to ambiguous ordering.\u001b[39m\u001b[38;5;124m\"\u001b[39m\n\u001b[0;32m    682\u001b[0m     )\n",
      "\u001b[1;31mValueError\u001b[0m: All arrays must be of the same length"
     ]
    }
   ],
   "source": [
    "# Création du dataset final\n",
    "df_large = pd.DataFrame({\n",
    "    \"timestamp\": timestamps,\n",
    "    \"cpu_usage\": cpu_usage,\n",
    "    \"ram_usage\": ram_usage,\n",
    "    \"disk_usage\": disk_usage,\n",
    "    \"network_sent\": network_sent,\n",
    "    \"network_received\": network_received,\n",
    "    \"temperature\": temperature,\n",
    "    \"reallocated_sectors\": reallocated_sectors,\n",
    "    \"event_id\": event_id,\n",
    "    \"message\": messages,\n",
    "    \"level\": levels,\n",
    "    \"label\": labels\n",
    "})\n"
   ]
  },
  {
   "cell_type": "code",
   "execution_count": null,
   "id": "601a2b30-4b9b-4d9e-9542-66c585e3b2b1",
   "metadata": {},
   "outputs": [],
   "source": [
    "# Appliquer les descriptions et recommandations\n",
    "df_large[\"description\"] = df_large.apply(generate_description, axis=1)\n",
    "df_large[\"recommendation\"] = df_large.apply(generate_recommendation, axis=1)\n"
   ]
  },
  {
   "cell_type": "code",
   "execution_count": 47,
   "id": "ac2852c7-ab2b-422f-bb0b-18b51a576900",
   "metadata": {},
   "outputs": [
    {
     "ename": "NameError",
     "evalue": "name 'df_large' is not defined",
     "output_type": "error",
     "traceback": [
      "\u001b[1;31m---------------------------------------------------------------------------\u001b[0m",
      "\u001b[1;31mNameError\u001b[0m                                 Traceback (most recent call last)",
      "Cell \u001b[1;32mIn[47], line 3\u001b[0m\n\u001b[0;32m      1\u001b[0m \u001b[38;5;66;03m# Sauvegarde en Excel\u001b[39;00m\n\u001b[0;32m      2\u001b[0m output_file \u001b[38;5;241m=\u001b[39m \u001b[38;5;124m\"\u001b[39m\u001b[38;5;124mfinal_dataset_20000_complete.xlsx\u001b[39m\u001b[38;5;124m\"\u001b[39m\n\u001b[1;32m----> 3\u001b[0m \u001b[43mdf_large\u001b[49m\u001b[38;5;241m.\u001b[39mto_excel(output_file, index\u001b[38;5;241m=\u001b[39m\u001b[38;5;28;01mFalse\u001b[39;00m)\n\u001b[0;32m      5\u001b[0m \u001b[38;5;28mprint\u001b[39m(\u001b[38;5;124mf\u001b[39m\u001b[38;5;124m\"\u001b[39m\u001b[38;5;124m✅ Dataset bien équilibré avec tous les cas possibles généré : \u001b[39m\u001b[38;5;132;01m{\u001b[39;00moutput_file\u001b[38;5;132;01m}\u001b[39;00m\u001b[38;5;124m\"\u001b[39m)\n",
      "\u001b[1;31mNameError\u001b[0m: name 'df_large' is not defined"
     ]
    }
   ],
   "source": [
    "# Sauvegarde en Excel\n",
    "output_file = \"final_dataset_20000_complete.xlsx\"\n",
    "df_large.to_excel(output_file, index=False)\n",
    "\n",
    "print(f\"✅ Dataset bien équilibré avec tous les cas possibles généré : {output_file}\")"
   ]
  },
  {
   "cell_type": "code",
   "execution_count": null,
   "id": "b2b7bfdd-cb88-4996-ac79-2ed8c776be7e",
   "metadata": {},
   "outputs": [],
   "source": []
  },
  {
   "cell_type": "code",
   "execution_count": null,
   "id": "e38afb54-db71-4d98-bc77-64ef1590df6e",
   "metadata": {},
   "outputs": [],
   "source": []
  },
  {
   "cell_type": "code",
   "execution_count": null,
   "id": "1aea8062-061a-44d1-9cc5-2f2850e55684",
   "metadata": {},
   "outputs": [],
   "source": []
  }
 ],
 "metadata": {
  "kernelspec": {
   "display_name": "Python 3 (ipykernel)",
   "language": "python",
   "name": "python3"
  },
  "language_info": {
   "codemirror_mode": {
    "name": "ipython",
    "version": 3
   },
   "file_extension": ".py",
   "mimetype": "text/x-python",
   "name": "python",
   "nbconvert_exporter": "python",
   "pygments_lexer": "ipython3",
   "version": "3.10.9"
  }
 },
 "nbformat": 4,
 "nbformat_minor": 5
}
